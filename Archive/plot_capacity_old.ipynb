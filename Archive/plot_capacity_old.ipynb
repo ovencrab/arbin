{
 "cells": [
  {
   "cell_type": "code",
   "execution_count": 1,
   "metadata": {},
   "outputs": [],
   "source": [
    "from pathlib import Path\n",
    "from tkinter import Tk\n",
    "from tkinter.filedialog import askopenfilenames\n",
    "import numpy as np\n",
    "import pandas as pd\n",
    "import matplotlib.pyplot as plt\n",
    "import matplotlib as mpl\n",
    "import matplotlib.cm as cm\n",
    "import matplotlib.ticker as plticker\n",
    "\n",
    "idx = pd.IndexSlice\n",
    "\n",
    "# Define automatic naming format from file_paths\n",
    "def get_name(file_path):\n",
    "    name = file_path.stem.split(\"_\")\n",
    "    #name = name[4]\n",
    "    name = name[3]+'_'+name[4]\n",
    "    return name\n",
    "\n",
    "# Define axis labels based on parameter\n",
    "def gen_param_label(param):\n",
    "    param_dict = {\n",
    "        'mAh':'[mAh]',\n",
    "        'mass':'[mAh/g]',\n",
    "        'areal':r'$\\mathrm{[mAh/cm^2]}$',\n",
    "        'volume':r'$\\mathrm{[mAh/cm^3]$'}\n",
    "    \n",
    "    return param_dict[param]"
   ]
  },
  {
   "cell_type": "code",
   "execution_count": 2,
   "metadata": {},
   "outputs": [],
   "source": [
    "# Open file dialog\n",
    "root = Tk()\n",
    "root.attributes(\"-topmost\", True)\n",
    "root.withdraw()  # stops root window from appearing\n",
    "file_paths = askopenfilenames(title=\"Select files\",\n",
    "                              filetypes=[(\"Comma-separated values\", \"*.csv\")])  # \"Open\" dialog box and return the selected path\n",
    "\n",
    "# Convert filepaths to pathlib format\n",
    "filez = []\n",
    "for file in file_paths:\n",
    "    file = Path(file)\n",
    "    filez.append(file)\n",
    "    \n",
    "file_paths = filez"
   ]
  },
  {
   "cell_type": "code",
   "execution_count": 3,
   "metadata": {},
   "outputs": [
    {
     "name": "stdout",
     "output_type": "stream",
     "text": [
      "0 -> 201027_SL -> mass\n"
     ]
    }
   ],
   "source": [
    "# Generate 'names' and 'param' dictionaries from file_paths\n",
    "# read_csv to dataframe\n",
    "names={}\n",
    "params = {}\n",
    "df=[]\n",
    "for i, file_path in enumerate(file_paths):\n",
    "    name = get_name(file_paths[i])\n",
    "    names[i] = name\n",
    "    \n",
    "    df_imp = pd.read_csv(file_paths[i],header=[1,2],index_col=0)\n",
    "    df_imp = pd.concat([df_imp], axis=1, keys=[i])\n",
    "    \n",
    "    df.append(df_imp)\n",
    "\n",
    "    params[i] = df_imp.columns.get_level_values(1)[0]\n",
    "      \n",
    "df = pd.concat(df, axis=1)\n",
    "df.sort_index(inplace=True)\n",
    "\n",
    "for cell in names:\n",
    "    print(cell, '->', names[cell], '->', params[cell])"
   ]
  },
  {
   "cell_type": "code",
   "execution_count": 4,
   "metadata": {},
   "outputs": [
    {
     "data": {
      "image/png": "[encoded data removed]",
      "text/plain": [
       "<Figure size 396x396 with 1 Axes>"
      ]
     },
     "metadata": {
      "needs_background": "light"
     },
     "output_type": "display_data"
    }
   ],
   "source": [
    "# Make list of cycles to plot\n",
    "#cycles = df.index.unique(level=1).tolist()\n",
    "cycles = range(1,5)\n",
    "\n",
    "# Create figure and axes\n",
    "plt.rcParams.update({'font.size': 14})\n",
    "fig, ax = plt.subplots(figsize=(5.5, 5.5))\n",
    "\n",
    "# Params\n",
    "ax.set_ylim(ymin=290, ymax=350)\n",
    "ax.set_xlim(xmin=0, xmax=3)\n",
    "\n",
    "# Plot cycle data\n",
    "for cell in names:\n",
    "    df_plot = df[cell][params[cell]]['p_cap']\n",
    "    \n",
    "    if 'p_cap_std' in df[cell][params[cell]].columns:\n",
    "        yerr = df[cell][params[cell]]['p_cap_std']\n",
    "        plt.errorbar(df_plot.index,\n",
    "                     df_plot,\n",
    "                     yerr=yerr,\n",
    "                     fmt='o',\n",
    "                     capsize=4, \n",
    "                     elinewidth=2,\n",
    "                     markeredgewidth=2,\n",
    "                     label = names[cell])    \n",
    "    else:\n",
    "        plt.scatter(df_plot.index,df_plot,label = names[cell])\n",
    "        \n",
    "loc = plticker.MultipleLocator(base=1.0) # this locator puts ticks at regular intervals\n",
    "ax.xaxis.set_major_locator(loc)\n",
    "    \n",
    "plt.xlabel(\"Cycle\")\n",
    "plt.ylabel('Capacity '+gen_param_label(params[0]))\n",
    "plt.legend(loc='upper left')\n",
    "\n",
    "plt.savefig(file_paths[cell].parent.joinpath('{}_{}.svg'.format('cycles_mass',names[cell])),\n",
    "            format='svg', \n",
    "            dpi=600, \n",
    "            bbox_inches = 'tight')\n",
    "plt.show()"
   ]
  },
  {
   "cell_type": "code",
   "execution_count": null,
   "metadata": {},
   "outputs": [],
   "source": []
  }
 ],
 "metadata": {
  "kernelspec": {
   "display_name": "Python [conda env:env_arbin]",
   "language": "python",
   "name": "conda-env-env_arbin-py"
  },
  "language_info": {
   "codemirror_mode": {
    "name": "ipython",
    "version": 3
   },
   "file_extension": ".py",
   "mimetype": "text/x-python",
   "name": "python",
   "nbconvert_exporter": "python",
   "pygments_lexer": "ipython3",
   "version": "3.8.2"
  }
 },
 "nbformat": 4,
 "nbformat_minor": 4
}
